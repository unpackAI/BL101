{
  "cells": [
    {
      "cell_type": "markdown",
      "metadata": {},
      "source": [
        "[![Open In Colab](https://colab.research.google.com/assets/colab-badge.svg)](https://colab.research.google.com/github/unpackAI/BL101/blob/main/course_notebooks/Ressources/Setup-Wallet.ipynb)"
      ]
    },
    {
      "cell_type": "markdown",
      "metadata": {},
      "source": [
        "# Wallets\n",
        "We highly recommend you to setup your own Metamask Wallet and deposit some **test-eth**. It is completly secure and free. We will only use the testnets throughout this couse. If you are interested in Blockchain you will need your own wallet sooner or later.  \n",
        "\n",
        "However, you can finish this course without your own wallet. In this case we provide you with our unpackAI Metamask wallet."
      ]
    },
    {
      "cell_type": "markdown",
      "metadata": {},
      "source": [
        "## MetaMask\n",
        "![MetaMask Logo](https://www.dropbox.com/s/74zg0rsh7e2v5mt/metamask_logo.png?raw=1)\n",
        "### Install MetaMask\n",
        "> *MetaMask is a wallet for `Ethereum` (and other tokens) that works as a browser extension. It connects to sites and application within your browser (i.e. after visiting the website you click on the `MetaMask` icon to connect your wallet with that website).*\n",
        "\n",
        "1. Visit [Metmask](https://metamask.io/) and locate the extension that is compatible with your browser *(supported browsers are: `Chrome`, `Firefox`, `Edge` and `Brave`)*. \n",
        "2. Install the extension ->  *the Metamask Icon  <img src=\"https://www.dropbox.com/s/wc0lhi23uag9rtg/metamask_icon.png?raw=1\"> appears in our browser*\n",
        "3. Click on the icon <img src=\"https://www.dropbox.com/s/wc0lhi23uag9rtg/metamask_icon.png?raw=1\"> in your browser and follow the setup process.\n",
        "4. Store/write down the `secret recovery phrase`: *it's the master key to your wallet!* \n",
        "\n",
        "### Become familiar with MetaMask\n",
        "\n",
        "#### Add Testnet\n",
        "We will mostly working with testnets. You need to activate it in settings:   \n",
        "![Show Testnets in Metamask](https://www.dropbox.com/s/e42f3tg9qiui9q5/show_testnets.png?raw=1)  \n",
        "\n",
        "We also recommend to **pin** MetaMask to your browser:  \n",
        "![Pin Metamask to Browser](https://www.dropbox.com/s/a5kty0vc7k9ijs6/pin_metamask.png?raw=1)\n",
        "\n",
        "#### A quick Overview\n",
        "![Metamask Overview](https://www.dropbox.com/s/059yzhmffe78qna/metamask-account-overview.png?raw=1)  \n",
        "\n",
        "- 1️⃣ Account Overview and info about connection (under 🦊). If you go to a website which requires your account information, you usually click on a button on that site or app and Metamask will pop-up and ask you to share your information. \n",
        "- 2️⃣ List of your networks: **Ethereum Mainnet** is the \"real\" blockchain, the rest are only test networks. At this time of writing we are using the rinkeby testnet. You can also add local networks (e.g. if you run your own blockchain on your computer)  \n",
        "- 3️⃣ - 4️⃣ Getting your `private key`. \n",
        "\n",
        "#### One word about accounts\n",
        "You cann add more accounts to your wallet. *(This can be useful e.g. to learn how to transfer money between accounts.)* Every account will then be available in all your testnets and your mainnet. Every account has an account number (also called `account address` or `public key`) and a `private key`. You will use both quite often. Whenever you \"change\" something on the blockchain (transfer money, mint NFT, etc.) you need your account address and your private key - think of them as your *name* and your *signature*.  \n",
        "The `secret key` belongs to your wallet and therefore to all your accounts. You never use it on the blockchain. *(typical usecases for your secret key is: setting up your wallet on a new computer or smart phone or browser)* \n",
        "\n",
        ">MetaMask will be your most important tool in the blockchain world. The nice thing about MetaMask: it allows you to use `testnets` to play around and test your application. You can also deposit money (i.e. tokens) on your testnet. But if you want to buy a real NFT or crypto token, etc. you need to use your mainnet with real `ETH` of course. \n",
        "\n",
        "*Let's add some test money to your wallet ...*\n",
        "\n",
        "### Get `Ether` for your wallet\n",
        "The process for adding `ether` to your wallet depends on the testnet. \n",
        "\n",
        "##### Rinkeby Testnet\n",
        "1. [Rinkeby Faucet](https://rinkebyfaucet.com/)\n",
        "    - very quick: just paste you wallet address\n",
        "    - only 0.1 Eth and you have to wait 24h to claim Eth againg\n",
        "2. [Rinkeby Authenticated Faucet](https://faucet.rinkeby.io/)\n",
        "    - you need `twitter` or `facebook` account\n",
        "    - for Twitter: \n",
        "        1. click on the twitter link\n",
        "        2. a sample tweet in your twitter account opens\n",
        "        3. paste your wallet address in that tweet and tweet\n",
        "        4. copy your tweets link (\"share tweet\") and paste it into the faucet\n",
        "    - you can add up to 18.75 Eth (every 3 days)  \n",
        "![Rinkeby Authenticated Fauce](https://www.dropbox.com/s/po2e8gxoie59eop/rinkebey_athenticated_faucet.png?raw=1)   \n",
        "\n",
        "##### Kovan Testnet   \n",
        "Unfortunately, Eth for `Kovan` is a little bit more difficult to get than for `Rinkeby`. You can get `Kovan` Eths from a couple of sites:\n",
        "1. [Kovan Faucet](https://faucet.kovan.network/)\n",
        "    - site was offline recently 😕\n",
        "2. [Gitter](https://gitter.im/kovan-testnet/faucet#)\n",
        "    - you need to sign on with your `twitter`, `github` or `gitlab` account\n",
        "    - then click on `join room` at the buttom of the page and paste in your wallet address\n",
        "    - only 0.001 Eth and you have to wait 24h to claim ETH again\n",
        "3. [Ethdrop](https://ethdrop.dev/)\n",
        "    - very simply: just paste your wallet address\n",
        "    - only 0.001 Eth and you have to wait 24h to claim ETH again\n",
        "##### Mainnet\n",
        "(we recommend not to deposit real `eth`, i.e. on the mainnet - at least not for now until you become more confident within the blockchain world.). But of course if you want to interact with the \"real\" blockchain (in a way that you *change* the blockchain, e.g.: buying \"real\" NFTs, minting \"real\" tokens, exchanging \"real\" crypos, etc.) you need to have real `eth`. The quickest way to buy eth is within MetaMask: you can buy via `Paypal`, `Apple Pay`, `Credit Card`, `Bank Transfer`, etc.\n",
        "Keep in mind that you also need eth for transactions which usually does not cost money (e.g. ...). I.e. because for most transactions you need to pay a transaction fee, so called `gas fee`. It is the compensation for the `miner` who \"helps\" you with your transaction. \n",
        "*But more on this later...*"
      ]
    },
    {
      "cell_type": "markdown",
      "metadata": {},
      "source": [
        "## Other Wallets\n",
        "Another famous wallet which functions similar to MetaMask and runs also in the browser is `Coinbase`:   \n",
        "\n",
        "![Coinbase Logo](https://www.dropbox.com/s/7ji3m05tnt913w8/coinbase_logo.png?raw=1)  \n",
        "\n",
        "Coinbase can store other cryptos while MetaMask focuses on ETH and ERC-20 tokens. Coinbase also functions as a browser add-on. You can download and install it [here](https://www.coinbase.com). But we don't need it for our course."
      ]
    }
  ],
  "metadata": {
    "colab": {
      "collapsed_sections": [],
      "name": "Setup-Wallet",
      "provenance": [],
      "toc_visible": true
    },
    "kernelspec": {
      "display_name": "Python 3.7.13 ('base')",
      "language": "python",
      "name": "python3"
    },
    "language_info": {
      "name": "python",
      "version": "3.7.13"
    },
    "vscode": {
      "interpreter": {
        "hash": "950f416cf5dff3cd681e2290923955467b5a4fc521bb5a8dd3247a329b065180"
      }
    }
  },
  "nbformat": 4,
  "nbformat_minor": 0
}
