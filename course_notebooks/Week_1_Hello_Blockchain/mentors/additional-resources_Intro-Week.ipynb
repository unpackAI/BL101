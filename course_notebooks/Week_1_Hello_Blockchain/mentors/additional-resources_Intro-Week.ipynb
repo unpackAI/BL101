{
 "cells": [
  {
   "cell_type": "markdown",
   "metadata": {},
   "source": [
    "[![Open In Colab](https://colab.research.google.com/assets/colab-badge.svg)](https://colab.research.google.com/github/unpackAI/BL101/blob/main/course_notebooks/Week_1_Hello_Blockchain/mentors/additional-resources_Intro-Week.ipynb)"
   ]
  },
  {
   "cell_type": "markdown",
   "metadata": {},
   "source": [
    "---   \n",
    "# Additional Resources 📦 for Intro-Week 🏝\n",
    "---   "
   ]
  },
  {
   "cell_type": "markdown",
   "metadata": {},
   "source": [
    "# What is Base64 Encoding?  \n",
    ">The Base64 Alphabet contains 64 basic ASCII characters which are used to encode data. Yeah, that's right, 64 characters is enough to encode any data of any length."
   ]
  },
  {
   "cell_type": "code",
   "execution_count": 3,
   "metadata": {},
   "outputs": [
    {
     "name": "stdout",
     "output_type": "stream",
     "text": [
      "SGVsbG8gU2hhbmdoYWk=\n"
     ]
    }
   ],
   "source": [
    "# STRING --> BASE64\n",
    "import base64\n",
    "sample_string = \"Hello Shanghai\"\n",
    "sample_string_bytes = sample_string.encode() #convert to byte format\n",
    "base64_bytes = base64.b64encode(sample_string_bytes) #👈🏻 decocde to base64\n",
    "base64_string = base64_bytes.decode(\"ascii\") #convert to string format\n",
    "  \n",
    "print(base64_string)"
   ]
  },
  {
   "cell_type": "markdown",
   "metadata": {},
   "source": [
    "- `base64` encoded text is therefore usually longer than the decoded text:"
   ]
  },
  {
   "cell_type": "code",
   "execution_count": 5,
   "metadata": {},
   "outputs": [
    {
     "data": {
      "text/plain": [
       "14"
      ]
     },
     "execution_count": 5,
     "metadata": {},
     "output_type": "execute_result"
    }
   ],
   "source": [
    "len(sample_string)"
   ]
  },
  {
   "cell_type": "code",
   "execution_count": 4,
   "metadata": {},
   "outputs": [
    {
     "data": {
      "text/plain": [
       "20"
      ]
     },
     "execution_count": 4,
     "metadata": {},
     "output_type": "execute_result"
    }
   ],
   "source": [
    "len(base64_string)"
   ]
  },
  {
   "cell_type": "markdown",
   "metadata": {},
   "source": [
    "---- "
   ]
  },
  {
   "cell_type": "markdown",
   "metadata": {},
   "source": [
    "# Hashing <a id='hashing'></a>\n",
    "- `sha256` -> hash algorithm in bitcoin network\n",
    "- `sha3_256` -> hash algorithm in ethereum network"
   ]
  },
  {
   "cell_type": "markdown",
   "metadata": {},
   "source": [
    "![Hashing Requirements](https://www.dropbox.com/s/eb93lt3zx6bc4lp/hash-algo-requirements.png?raw=1)"
   ]
  },
  {
   "cell_type": "markdown",
   "metadata": {},
   "source": [
    "### 1.-2. One-Way & Deterministic"
   ]
  },
  {
   "cell_type": "code",
   "execution_count": 12,
   "metadata": {},
   "outputs": [
    {
     "data": {
      "text/plain": [
       "'22e3bf107677dd90bf60f4fcac033b0a55dc33908075168224e479e51531425a'"
      ]
     },
     "execution_count": 12,
     "metadata": {},
     "output_type": "execute_result"
    }
   ],
   "source": [
    "import hashlib #👈🏻 hashlib is a built-in library for hashing\n",
    "hashlib.sha256(\"unpackAI\".encode()).hexdigest()"
   ]
  },
  {
   "cell_type": "code",
   "execution_count": 13,
   "metadata": {},
   "outputs": [
    {
     "data": {
      "text/plain": [
       "'cbd0591ba3f76ea8fbd8ac23244f964c4a980b765648788502861182ec0705ca'"
      ]
     },
     "execution_count": 13,
     "metadata": {},
     "output_type": "execute_result"
    }
   ],
   "source": [
    "hashlib.sha256(\"my secret password, I want to hash\".encode()).hexdigest()"
   ]
  },
  {
   "cell_type": "code",
   "execution_count": 4,
   "metadata": {},
   "outputs": [
    {
     "data": {
      "text/plain": [
       "'f56086b5cf01f8aaeb80d573f7d6f852d53eabdae5bed449f371fa99a5f59798'"
      ]
     },
     "execution_count": 4,
     "metadata": {},
     "output_type": "execute_result"
    }
   ],
   "source": [
    "hashlib.sha256(\"I love u\".encode()).hexdigest()"
   ]
  },
  {
   "cell_type": "code",
   "execution_count": 5,
   "metadata": {},
   "outputs": [
    {
     "data": {
      "text/plain": [
       "'c0ad5411b19cfcba9d674d21411a970159f6ae4e180831ddd6a91797be547752'"
      ]
     },
     "execution_count": 5,
     "metadata": {},
     "output_type": "execute_result"
    }
   ],
   "source": [
    "hashlib.sha256(\"我爱你\".encode()).hexdigest()"
   ]
  },
  {
   "cell_type": "code",
   "execution_count": 7,
   "metadata": {},
   "outputs": [
    {
     "data": {
      "text/plain": [
       "64"
      ]
     },
     "execution_count": 7,
     "metadata": {},
     "output_type": "execute_result"
    }
   ],
   "source": [
    "# this should be keccak256 (ethereum hashing algorithm)\n",
    "hashlib.sha3_256(\"bla\".encode()).hexdigest()"
   ]
  },
  {
   "cell_type": "markdown",
   "metadata": {},
   "source": [
    "### 3. Fast Computation"
   ]
  },
  {
   "cell_type": "code",
   "execution_count": 25,
   "metadata": {},
   "outputs": [
    {
     "name": "stdout",
     "output_type": "stream",
     "text": [
      "5feceb66ffc86f38d952786c6d696c79c2dbc239dd4e91b46729d73a27fb57e9\n",
      "6b86b273ff34fce19d6b804eff5a3f5747ada4eaa22f1d49c01e52ddb7875b4b\n",
      "d4735e3a265e16eee03f59718b9b5d03019c07d8b6c51f90da3a666eec13ab35\n",
      "4e07408562bedb8b60ce05c1decfe3ad16b72230967de01f640b7e4729b49fce\n",
      "4b227777d4dd1fc61c6f884f48641d02b4d121d3fd328cb08b5531fcacdabf8a\n",
      "ef2d127de37b942baad06145e54b0c619a1f22327b2ebbcfbec78f5564afe39d\n",
      "e7f6c011776e8db7cd330b54174fd76f7d0216b612387a5ffcfb81e6f0919683\n",
      "7902699be42c8a8e46fbbb4501726517e86b22c56a189f7625a6da49081b2451\n",
      "2c624232cdd221771294dfbb310aca000a0df6ac8b66b696d90ef06fdefb64a3\n",
      "19581e27de7ced00ff1ce50b2047e7a567c76b1cbaebabe5ef03f7c3017bb5b7\n"
     ]
    }
   ],
   "source": [
    "# 3. FAST COMPUTATION\n",
    "n = 10 # 👈🏻 you can increase this number \n",
    "for i in range(n):\n",
    "    print(hashlib.sha256(str(i).encode()).hexdigest())"
   ]
  },
  {
   "cell_type": "markdown",
   "metadata": {},
   "source": [
    "### 4. Always same output format"
   ]
  },
  {
   "cell_type": "code",
   "execution_count": 32,
   "metadata": {},
   "outputs": [
    {
     "data": {
      "text/plain": [
       "'ca978112ca1bbdcafac231b39a23dc4da786eff8147c4e72b9807785afee48bb'"
      ]
     },
     "execution_count": 32,
     "metadata": {},
     "output_type": "execute_result"
    }
   ],
   "source": [
    "hashlib.sha256(\"a\".encode()).hexdigest()"
   ]
  },
  {
   "cell_type": "code",
   "execution_count": 31,
   "metadata": {},
   "outputs": [
    {
     "data": {
      "text/plain": [
       "'f05179be0fc100dbb00a1852db8ad8babce2bcf45838deea70add34b8c5bb44d'"
      ]
     },
     "execution_count": 31,
     "metadata": {},
     "output_type": "execute_result"
    }
   ],
   "source": [
    "hashlib.sha256(\"\"\"\n",
    "Lorem ipsum dolor sit amet, consectetur adipiscing elit, sed do eiusmod tempor incididunt ut labore et dolore magna aliqua. \n",
    "Ut enim ad minim veniam, quis nostrud exercitation ullamco laboris nisi ut aliquip ex ea commodo consequat. \n",
    "Duis aute irure dolor in reprehenderit in voluptate velit esse cillum dolore eu fugiat nulla pariatur. \n",
    "Excepteur sint occaecat cupidatat non proident, sunt in culpa qui officia deserunt mollit anim id est laborum.\n",
    "\"\"\".encode()).hexdigest()"
   ]
  },
  {
   "cell_type": "markdown",
   "metadata": {},
   "source": [
    "### 5. Avalanche Effect\n",
    ">small change in input -> big change in output"
   ]
  },
  {
   "cell_type": "code",
   "execution_count": 17,
   "metadata": {},
   "outputs": [
    {
     "name": "stdout",
     "output_type": "stream",
     "text": [
      "21dcfbb385601e8c8021c5d537f49f6426bdd8ff56421ab481066b97eeae03c2\n",
      "3a80cdec3fcc1ea87d1c7a40dee834c1ec277cad990e1a58afc57e8f9ca95bd0\n"
     ]
    }
   ],
   "source": [
    "# 5. AVALANCHE EFFECT\n",
    "for i in [\n",
    "    \"Shanghai is the greatest city in the world\", \n",
    "    \"Shanghai isn't the greatest city in the world\"\n",
    "    ]:\n",
    "    print(hashlib.sha256(i.encode()).hexdigest())"
   ]
  },
  {
   "cell_type": "markdown",
   "metadata": {},
   "source": [
    "### 6. Must withstand Collision"
   ]
  },
  {
   "cell_type": "code",
   "execution_count": 8,
   "metadata": {},
   "outputs": [
    {
     "name": "stdout",
     "output_type": "stream",
     "text": [
      "Length of hashvalue:  64\n",
      "Possible Values:  105312291668557186697918027683670432318895095400549111254310977536\n"
     ]
    }
   ],
   "source": [
    "# 6. MUST WITHSTAND COLLISION\n",
    "hash_len = len( hashlib.sha3_256(\"bla\".encode()).hexdigest() )\n",
    "print(\"Length of hashvalue: \", hash_len)\n",
    "print(\"Possible Values: \", 64**(26+10))"
   ]
  },
  {
   "cell_type": "markdown",
   "metadata": {},
   "source": [
    "### Useful extra features: a hash value is also a number\n",
    ">makes calculations easy, e.g. add a number to the hash to get a new hash value"
   ]
  },
  {
   "cell_type": "code",
   "execution_count": 27,
   "metadata": {},
   "outputs": [
    {
     "name": "stdout",
     "output_type": "stream",
     "text": [
      "611353379361600339\n"
     ]
    }
   ],
   "source": [
    "# A hash is also a number\n",
    "x = hash(\"75c9534e499fc7a7065fcfb1f8cd4bf4835dcbd5a23f88248233832420b9c67e\")\n",
    "print(x)"
   ]
  },
  {
   "cell_type": "code",
   "execution_count": 30,
   "metadata": {},
   "outputs": [
    {
     "data": {
      "text/plain": [
       "'01e27492c47ea581ab40a5f1b40d1b2ac7a5b6ab183c228901f8fb442dac9448'"
      ]
     },
     "execution_count": 30,
     "metadata": {},
     "output_type": "execute_result"
    }
   ],
   "source": [
    "x+=1\n",
    "hashlib.sha3_256(str(x).encode()).hexdigest()"
   ]
  },
  {
   "cell_type": "markdown",
   "metadata": {},
   "source": [
    "----   "
   ]
  },
  {
   "cell_type": "markdown",
   "metadata": {},
   "source": [
    "# Mining ⛰⛏🤑"
   ]
  },
  {
   "cell_type": "code",
   "execution_count": 14,
   "metadata": {},
   "outputs": [
    {
     "name": "stdout",
     "output_type": "stream",
     "text": [
      "324f7fa0c65d75fdfbc444637bccfa27a6044d52d215e1de514c9cfa1e9d0660\n"
     ]
    }
   ],
   "source": [
    "BLOCK = 42 #fix - we cannot change!\n",
    "nonce = 2 # 👈🏻 this we can change!!!!\n",
    "DATA = \"A sent 2 Bitcoins to B!\" #fix - we cannot change!\n",
    "PREVIOUS_HASH = \"01e27492c47ea581ab40a5f1b40d1b2ac7a5b6ab183c228901f8fb442dac9448\" #fix - we cannot change!\n",
    "hash = hashlib.sha256(str(BLOCK + nonce).encode() + DATA.encode() + PREVIOUS_HASH.encode()).hexdigest()\n",
    "print(hash)"
   ]
  },
  {
   "cell_type": "markdown",
   "metadata": {},
   "source": [
    "The miner gets a reward for mining a block. Every block has a Block number, \n",
    "nonce stands for *number only used once*. It's the only parameter the miner can change. \n",
    "And because of the *Avalanche Effect* the output changes dramatically if we change the nonce by small amounts."
   ]
  },
  {
   "cell_type": "markdown",
   "metadata": {},
   "source": [
    "The following code shows how mining works: \n",
    "\n",
    "1. We start with mining the 2nd block (the first block was the initial block).\n",
    "\n",
    "    - The Blockchain starts with a hash value of `sd46h42f6` in BLOCK #1 (randomly set by the network). \n",
    "    - The *Riddle* the miner has to solve in order to get his/her reward is to 👉🏻 **Find a hash value *(that contains the previous blocks hash value as an input)* starting with n leading zeros.** 👈🏻   \n",
    "    - The miner does so by trial and error (so called *brute force*): with every trial the miner increments the `nonce` by 1. The miner runs the `sha256` hash function with 2 input values:\n",
    "        1. `previous_hash` (fixed)  \n",
    "        2. `nonce` (variable)   \n",
    "    *(the `BLOCK` is not so important)*  \n",
    "    with the previous hash and that new nonce and hopes to get an output with n leading zeros.\n",
    " \n",
    "\n",
    "\n"
   ]
  },
  {
   "cell_type": "code",
   "execution_count": 10,
   "metadata": {},
   "outputs": [
    {
     "name": "stdout",
     "output_type": "stream",
     "text": [
      "Mined Block:  2\n",
      "Execution time 0.22\n",
      "Number of trials:  53885\n",
      "Successful Hash:  0000697932ed147ad141ffe6f1572610c3a0c123bb6e300db1b9a2aa302279fe\n"
     ]
    }
   ],
   "source": [
    "# BLOCK #2\n",
    "import hashlib\n",
    "import time\n",
    "\n",
    "# function to mine a block\n",
    "def proof_of_work(previous_hash, n):\n",
    "    t0=time.time() #start timer\n",
    "    previous_proof = hash(previous_hash) #hash value -> integer\n",
    "    BLOCK = 2 # BLOCK No. 2\n",
    "    nonce = 1 # 👈🏻 this we can change, we start with 1\n",
    "    \n",
    "    # brute-force (find hash by trial & error):\n",
    "    check_proof = False\n",
    "    while check_proof is False:\n",
    "        hash_operation = hashlib.sha256(str(nonce**2 - previous_proof**2 + BLOCK).encode()).hexdigest()\n",
    "        if hash_operation[:n] == n*'0': \n",
    "            check_proof = True # success -> mined the block 💰💃🕺\n",
    "        else:\n",
    "            nonce += 1\n",
    "\n",
    "    t1=time.time() #stop timer\n",
    "\n",
    "    print(\"Mined Block: \", BLOCK)\n",
    "    print(f\"Execution time {t1-t0:.2f}\")\n",
    "    print(\"Number of trials: \", nonce)\n",
    "\n",
    "    return hash_operation\n",
    "\n",
    "leading_zeros = 4 # 👈🏻  change number of leading zeros 👨‍💻👨‍💻👩🏾‍💻👩🏾‍💻👨‍💻👩🏾‍💻👨‍💻\n",
    "\n",
    "hash_block2 = proof_of_work(previous_hash=\"sd46h42f6\", n=leading_zeros)\n",
    "print(\"Successful Hash: \", hash_block2)"
   ]
  },
  {
   "cell_type": "code",
   "execution_count": 11,
   "metadata": {},
   "outputs": [
    {
     "name": "stdout",
     "output_type": "stream",
     "text": [
      "Mined Block:  3\n",
      "Execution time 8.57\n",
      "Number of trials:  2056311\n",
      "Successful Hash:  000002923dd5e1a1763ef5cf39279c0fa0f910a2243f05532ff4b82399099fa8\n"
     ]
    }
   ],
   "source": [
    "# BLOCK #3\n",
    "\n",
    "def proof_of_work(previous_hash, n):\n",
    "    t0=time.time()\n",
    "    previous_proof = hash(previous_hash) #hash value -> integer\n",
    "    BLOCK = 3 # BLOCK No. 3\n",
    "    nonce = 1 # 👈🏻 this we can change, we start with 1\n",
    "    \n",
    "    # brute-force:\n",
    "    check_proof = False\n",
    "    while check_proof is False:\n",
    "        hash_operation = hashlib.sha256(str(nonce**2 - previous_proof**2 + BLOCK).encode()).hexdigest()\n",
    "        if hash_operation[:n] == n*'0': \n",
    "            check_proof = True # success -> mined the block 💰💃🕺\n",
    "        else:\n",
    "            nonce += 1\n",
    "    t1=time.time()\n",
    "\n",
    "    print(\"Mined Block: \", BLOCK)\n",
    "    print(f\"Execution time {t1-t0:.2f}\")\n",
    "    print(\"Number of trials: \", nonce)\n",
    "\n",
    "    return hash_operation\n",
    "\n",
    "leading_zeros = 5 # 👈🏻  now we increase the number of zeros to make mining more difficult👨‍💻\n",
    "\n",
    "hash_block3 = proof_of_work(previous_hash=hash_block2, n=leading_zeros)\n",
    "print(\"Successful Hash: \", hash_block3)"
   ]
  },
  {
   "cell_type": "markdown",
   "metadata": {},
   "source": [
    ">🧐  By increasing the number of leading zeros, it takes longer for the miner to find the hash value which matches the requirement."
   ]
  },
  {
   "cell_type": "markdown",
   "metadata": {},
   "source": []
  }
 ],
 "metadata": {
  "interpreter": {
   "hash": "b37b38a6f47cd4b4051719b99ea9057f05be0d4b3ac061a1b37302dbc9fa3caa"
  },
  "kernelspec": {
   "display_name": "Python 3 (ipykernel)",
   "language": "python",
   "name": "python3"
  },
  "language_info": {
   "codemirror_mode": {
    "name": "ipython",
    "version": 3
   },
   "file_extension": ".py",
   "mimetype": "text/x-python",
   "name": "python",
   "nbconvert_exporter": "python",
   "pygments_lexer": "ipython3",
   "version": "3.6.15"
  }
 },
 "nbformat": 4,
 "nbformat_minor": 4
}
