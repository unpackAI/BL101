{
 "cells": [
  {
   "cell_type": "markdown",
   "metadata": {},
   "source": [
    "[![Open In Colab](https://colab.research.google.com/assets/colab-badge.svg)](https://colab.research.google.com/github/unpackAI/BL101/blob/main/course_notebooks/Week_3_DecentralisedFinance%28DeFi%29/03_Decentralised_Finance%28DeFi%29_Coursebook.ipynb)"
   ]
  },
  {
   "cell_type": "markdown",
   "metadata": {},
   "source": [
    "# 💻 Welcome to Week 3 of the BC101 Bootcamp \n",
    "\n",
    "You have successfully finished the first two weeks! Having learned more about NFTs it is time to dive into the biggest area of application in all of Blockchain: DeFi.\n",
    "\n",
    "## 📕 Learning Objectives\n",
    "\n",
    "* What is DeFi and why is the blockchain particularly suited for financial transactions.\n",
    "* What are popular DeFi protocols and how do they work?\n",
    "* Build your own DeFi protocol and interact with it via your own wallet.\n",
    "\n",
    "## 📅 Weekly Progress\n",
    "\n",
    "|Week | Content | Learning Objectives|\n",
    "|:--- |:--- | :--- |\n",
    "| 1 | Hello Blockchain World | Get to know more about your classmates, the mentors, and learn about the fundamental concepts of the Blockchain, how it works, and write your first smart contract.|\n",
    "| 2 | Non-fungible Tokens (NFTs)| Learn more about Non-fungible Tokens (NFTs) and go through the protocols that make them unique and valuable. Create your own NFT collection, deploy it to a Testnet and view it on OpenSea. |\n",
    "| **3** | **Decentralised Finance (DeFi)**| **Understand the major innovation behind DeFi, learn about the most popular DeFi protocols, and create your own cryptocurrency and DeFi project for others to interact with.** |\n",
    "| 4 | GameFi & SocialFi | Discover a new field in Blockchain that has experienced explosive growth and tapped into concepts such as play-to-earn that currently push the boundaries of blockchain technology application beyond finance. Integrate your own SocialFi project with your DeFi and NFT project. |\n",
    "| 5 | Decentralised Autonomous Orgaizations (DAOs) & Personal Project  | Find out why DAOs are the industries standard as the governing entity for blockchain-based organizations and how they handle voting mechanisms and tokenomics to make the entire organization function. Go through the process of building your own DAO, and pitch your own Blockchain project to the class. Successfully graduate from the Bootcamp and receive your Blockchain certification. |"
   ]
  },
  {
   "cell_type": "markdown",
   "metadata": {},
   "source": [
    "#### Library Setup\n",
    ">If you want to run the code cells in this notebook you need to execute the next two cells. It will download our `bl101` from pip and imports it together with some other libaries. *(This might take a few minutes.)*"
   ]
  },
  {
   "cell_type": "code",
   "execution_count": null,
   "metadata": {},
   "outputs": [],
   "source": [
    "%%capture [--no-stdout]\n",
    "# SETUP LIBRARIERS (ONLY ONCE)\n",
    "%pip install bl101"
   ]
  },
  {
   "cell_type": "code",
   "execution_count": 2,
   "metadata": {},
   "outputs": [],
   "source": [
    "# Import our library\n",
    "import bl101\n",
    "from bl101.helpers import crypto_data"
   ]
  },
  {
   "cell_type": "markdown",
   "metadata": {},
   "source": [
    "## Intro to DeFi"
   ]
  },
  {
   "cell_type": "markdown",
   "metadata": {},
   "source": [
    "Let's start with the basics. DeFi stands for Decentralised Finance. Its a new and alternate financial system that is:\n",
    "1. **Open to everyone**: There are no prerequisites to participate in the DeFi ecosystem. Traditionally, if you want to register a bank account, you are required to provide identification, and in some cases also a tax number. DeFi allows any individual, to open up their own wallet with a phone and an internet connection, and both are becoming increasingly accessible, as opposed to access to a nearby bank.\n",
    "2. **Does not require trust**: In DeFi, the requirement for any financial institution as an intermediary, is removed. You, the individual can own your own assets, and are able to transact or trade instantaneously without approval.\n",
    "\n",
    "This is made possible via Blockchain technology, Cryptography and Smart Contracts. At current (06.03.2022), there is 73.07b USD invested in DeFI. This number represents the Total Value Locked (TVL), the total value of cryptocurrency locked in a smart contracts. TVL in DeFi protocols is down from 249b USD back in November 9th, 2021. You can see daily stats on DeFi TVL, and a list of the most dominant DeFi protocols [here](https://defillama.com/).\n",
    "\n",
    "<img src=\"https://www.dropbox.com/s/a701y51ytf0nqw9/DeFi_Overview.png?raw=1\" alt=\"etherscan_week1\" width=\"1000\"/>\n",
    "\n",
    "Thus far, the Ethereum has a market share of 70%, represented by the TVL in DeFi protocols based on Ethereum. Binance Smart Chain (BSC) is second with 8%. We have found a visualization [here](https://www.footprint.network/@Juna/DeFi-TVL-percentage-of-Chain) using Footprint here.\n",
    "\n",
    "Before we further dive into the applications of DeFi and study two prominent DeFi protocols, lets briefly dive into the differences between the traditional financial system and DeFi."
   ]
  },
  {
   "cell_type": "markdown",
   "metadata": {},
   "source": [
    "### DeFi vs Traditional Finance\n",
    "To understand the innovation of DeFi is to understand of it differentiates from traditional finance from the perspective of a user.\n",
    "\n",
    "1. Interaction Layer:\n",
    "    - Traditional Finance: Banks and certified accounts are the gateway into the traditional financial system. The way you withdraw funds, initiate transactions or invest is via branches, ATMs, online banking and more. Transactions are not public.\n",
    "    - DeFi: As a DeFi user you need to register a wallet, and can directly interact with DeFi protocols. Clearly, you require real funds to purchase Bitcoin or Ether, that can be purchased via various exchanges using your fiat currency (USD, EUR, etc.). All transactions are public for you to explore via Block Explorers (i.e. Etherscan) or other analytic tools (i.e. Footprint, Nansen etc.). In some countries you can even withdraw fiat currency using a Bitcoin ATM.\n",
    "2. Application Layer:\n",
    "    - Traditional Finance: Centralised Finances offers many financial products and services to invest your wealth. Importantly, all are regulated by the government and hold accountable in case of fraud. This protects the retail investor.\n",
    "    - DeFi: Mirroring the traditional financial system, DeFi offers similar and new innovative financial products (i.e. flash loans). These will be discussed in the following. Additionally, it needs to be highlighted that in DeFi regulation is essentially non-existent. While, this makes things easier, quicker and a lot more accessible, it also creates an easy way for fraudulent players, to scam retail investors of a lot of money (DO NOT CLICK ON RANDOM LINKS FROM UNVERIFIED EMAILS OR LINKS).\n",
    "3. Execution Layer:\n",
    "    - Traditional Finance: The executional layer, that executes the various trades or transactions initiated by you, are highly intransparent. This results in high transaction fees, limitations (i.e. limit on foreign transfers), and high waiting times.\n",
    "    - DeFi: Any transactions are not executed by an instituion, but by code. It does what you tell it to. And it does that fast with the least amount of friction.\n",
    "\n",
    "<img src=\"https://www.dropbox.com/s/6gsizopdzo0uavd/CeFi%20vs%20DeFi.png?raw=1\" alt=\"etherscan_week1\" width=\"600\"/>\n",
    "\n",
    "Lets now further dive into possibilities and application in DeFi. We will cover the main areas with the highest amount of TVL."
   ]
  },
  {
   "cell_type": "markdown",
   "metadata": {},
   "source": [
    "## DeFi  Application Layer"
   ]
  },
  {
   "cell_type": "markdown",
   "metadata": {},
   "source": [
    "### Tokens"
   ]
  },
  {
   "cell_type": "markdown",
   "metadata": {},
   "source": [
    "What are tokens? Tokens are smart contracts that can represent virtually anything:\n",
    "\n",
    "- reputation points in an online platform  \n",
    "- skills of a character in a game  \n",
    "- lottery tickets  \n",
    "- financial assets like a share in a company  \n",
    "- a fiat currency like USD  \n",
    "- an ounce of gold  \n",
    "- and more...   \n",
    "\n",
    "Last week we learnt about token standards. As a quick review: standards are like templates of solidity contracts with predefined methods. A widely used standard for building unique tokens is **ERC-721**. We used it when we built our NFT. \n",
    "\n",
    "The 4 most important token standards are:\n",
    "\n",
    "|  Name | Created | Use Cases |  \n",
    "| -- |-- |-- |   \n",
    "| ERC-20 | 2015 | Fungible token standard that provides basic functionality to transfer tokens, as well as allow tokens to be approved. |    \n",
    "| ERC-721 | 2018 | Non-Fungible Token standard |   \n",
    "| ERC-777 | 2017 | Standard that defines all the functions required to send tokens on behalf of another address, contract or regular account. |   \n",
    "| ERC-1155 | 2018 | A standard for contracts that manage multiple token types. |   \n",
    "\n",
    "\n",
    "Another thing you need to know about tokens is that they are not held by accounts. Tokens exist in contracts, which function like decentralized databases that map tokens to the appropriate Ethereum address. Also, it is the token contract that governs and specifies the rules that apply to a given token. With this, developers set the name, symbol, divisibility and other important token identifiers. \n",
    "Hence, the transfer of ownership of tokens only occurs when the current owner sends a request to the contract directing it to allocate part of the balance to another Ethereum wallet address. To register this transfer on the blockchain, the owner must pay a gas fee in ETH."
   ]
  },
  {
   "cell_type": "markdown",
   "metadata": {},
   "source": [
    "#### DeFi-related Tokens"
   ]
  },
  {
   "cell_type": "markdown",
   "metadata": {},
   "source": [
    "In a DeFi context we can define Token standards as a *set of rules that allow the development of cryptocurrency tokens on different blockchain protocols.*   \n",
    "\n",
    "Contracts of ownership are unique or non-fungible. In the financial world on the other side we need exchangable contracts. Financial instruments are (in most cases) standardized. Think about company stocks, securities, cryptocurrencies or even money. Financial tokens are fungible or interchangeable or even tradeable. In other words: every ERC-20 token usually consists of many tokens. The owner of an ERC-20 (e.g. bitcoin, ether) token is not interested in a specific token rather than how many of these tokens she gets. The **Mona Lisa** would be an ERC721, a **dollar bill** an ERC-20. \n",
    "\n",
    "*So what exactly is this ERC-20 standard?*"
   ]
  },
  {
   "cell_type": "markdown",
   "metadata": {},
   "source": [
    "##### ERC-20\n",
    "**ERC-20** was introduced in 2015 and provides basic functionality to transfer tokens, as well as allow tokens to be approved so they can be spent by another on-chain third party. All Ethereum wallet addresses are compatible with ERC-20 tokens.\n",
    "\n",
    "**Example functionalities of ERC-20:**\n",
    "- transfer tokens from one account to another  \n",
    "- get the current token balance of an account\n",
    "- get the total supply of the token available on the network\n",
    "- approve whether an amount of token from an account can be spent by a third-party account  \n",
    "\n",
    "**Why make an ERC-20?**  \n",
    "- Governance token  \n",
    "- Secure an underlying network  \n",
    "- create a synthetic asset  \n",
    "- fund-raising\n",
    "- etc.\n",
    "\n",
    "If a Smart Contract implements the following methods and events it can be called an ERC-20 Token Contract and - once deployed - it will be responsible to keep track of the created tokens on Ethereum.\n",
    "\n",
    "**ERC-20 Methods**   \n",
    "\n",
    "| NAME: | PURPOSE: | INPUT: | TYPE: | RETURNS:|   \n",
    "| :-- | :-- | :-- | :-- | :-- |  \n",
    "| **name** | *returns the name of the token* | - | public view | (string) |  \n",
    "| **symbol** | *returns the symbol of the token*| - | public view | (string) |  \n",
    "| **decimals** |*returns the number of decimals the token uses - e.g. 8* | - | public view | (uint8) |   \n",
    "| **totalSupply** | *returns the total token supply* | - | public view | (uint256) |  \n",
    "| **balanceOf** | *returns the account balance of `_owner`* | `_owner` (address) | public view | `balance` (uint256) |  \n",
    "| **transfer** | *transfer `_value` to `_to` address; MUST fire the transfer event* | `_to` (address), `_value` (uint256) | public | `success` (bool) |   \n",
    "| **transferFrom** | *used for withdraws, allowing contracts to transfer tokens on your behalf* | `_from` (address), `_to` (address), `_value` (uint256) | public | `success` (bool) |  \n",
    "| **approve** | *allows `_spender` to withdraw from your account multiple times, up to the `_value` amount* | `_spender` (address), `_value`(uint256)) | public | `success` (bool)|  \n",
    "| **allowance** | *returns amount which `_spender` is still allowed to withdraw from `_owner`* | _owner (address), _spender (address) | public view | remaining (uint256) |  \n",
    "\n",
    "**ERC-20 Events**   \n",
    "\n",
    "| NAME: | TRIGGERS: | INPUT: |  \n",
    "| -- | -- | -- |  \n",
    "| **Transfer** | *... when tokens are transferred* |  `_from` (address), `_to` (addreess), `_value` (uint256) |  \n",
    "| **Approval** | *... on any successful call of `approve()` method* | `_owner` (address), `_spender`(address), `_value` (uint256) |     \n",
    "\n",
    "You don't have to write your ERC-20 token from scratch. Different implementations have been written by various teams that have different purposes and trade-offs: *from gas saving via pausing token transfers to improved security*. You can find examples at [Open Zeppelin](https://docs.openzeppelin.com/contracts/3.x/api/token/erc20). An interesting extension is [ERC20Burnable](https://docs.openzeppelin.com/contracts/3.x/api/token/erc20#ERC20Burnable): this allows token holders to destroy both their own tokens and those they have an allowance for.\n",
    "\n",
    "**ETH vs ERC20**  \n",
    "ETH is the native token of the Ethereum blockchain and it acts as the fuel of the network as each operation on the Ethereum blockchain needs to pay a corresponding amount of **gas**. Gas prices are denoted in small fractions of ether called gwei (1 gwei = 0.000000001 ETH). While ERC-20 is the standard to obey in order to create applications (smart contract), ETH is serving as a currency for accessing the application.\n",
    "\n",
    "#### Other Token Standards\n",
    "The complexity of the DeFi ecosystems with many different use cases demands for more token standards to overcome the limitations of ERC-20. However, none of these standards are as popular as ERC-20 and the field is quickly developing.\n",
    "\n",
    "**ERC-1363**<a name=\"cite_ref-1\"></a>[<sup>[1]</sup>](#cite_note-1)    \n",
    "One example for other token standards is the ERC-1363. This token standard allows to implement an ERC-20 token that can be used for payments. It's also named **Payable Token**. ERC-1363 allows to execute code after the token was transfered without the need of another transaction and paying gas fees twice. The originator of this token lists these use cases:\n",
    "- create a token payable crowdsale  \n",
    "- selling services for tokens  \n",
    "- paying invoices  \n",
    "- making subscriptions  \n",
    "\n",
    "#### Token vs. Coins  \n",
    "A crypto **coin** is a crypto asset (crypto asset refers to all kinds of cryptos) that has its own blockchain, as opposed to running on another crypto asset’s blockchain. You could also call a crypto coin a cryptocurrency or a *native token*. Coins are usually used only for payments. Bitcoin, Ethereum, Litecoin are all coins.  \n",
    "\n",
    "A **token** on the other hand runs on another blockchain. The best known example is the ERC-20 token and there exists way more tokens than coins in the blockchain ecosystem *(remember: we  also called our NFT sometimes a token.)* Tokens have various use cases, including payment - but many more."
   ]
  },
  {
   "cell_type": "markdown",
   "metadata": {},
   "source": [
    "### Cryptocurrencies"
   ]
  },
  {
   "cell_type": "markdown",
   "metadata": {},
   "source": [
    "Cryptocurrencies (crpytos) are the encrypted form of a digital currency that does not depend on financial institutions to verify transactions. Cryptos are stored in digital wallets. The term cryptocurrency is the superset, while coins and tokens are two subset categories.\n",
    "\n",
    "The Top 5 Cryptos by Market Cap *(price x supply)* are:\n",
    "1. Bitcoin\n",
    "2. Ethereum\n",
    "3. Tether\n",
    "4. USD Coin\n",
    "5. BNB\n",
    "\n",
    "Cryptos can be traded on Crypto Exchanges (e.g. [Coinbase](https://coinbase.com), [Kraken](https://www.kraken.com)) but more and more traditional brokerage services offer crypto trading, too. Trading with cryptos can be risky and speculative, and the markets can be extremely volatile. However, to get the basic and chart information about a specific coin you can go to [coinmarketcap](https://coinmarketcap.com) and click on the coin you are interested it.  \n",
    "\n",
    "**Different Types Of Cryptos:**\n",
    "|Type | Main feature\t| Examples |\n",
    "|--|--|--|\n",
    "|Utility tokens | Meant to provide access to platform service where they reside.\t| Funfair, Basic Attention Token, Brickblock, Timicoin, Sirin Labs Token, and Golem.|\n",
    "|Security tokens | Usage and issuance governed by financial regulation.\t| Sia Funds, Bcap (Blockchain Capital), and Science Blockchain.|\n",
    "|Payment tokens\t| Used for paying for goods and services inside and outside their own platforms. Almost every crypto falls in this category. | Monero, Ethereum, and Bitcoin.|\n",
    "|Exchange tokens | Exchange tokens are native to crypto exchange platforms.\t| Binance Coin or BNB token, Gemini USD, FTX Coin for FTX Exchange, OKB for Okex exchange, KuCoin Token, Uni token, HT for Huobi exchange, Shushi, and CRO for Crypto.com.|  \n",
    "|Meme Coins|Meme coins are inspired by a joke or a silly take on other well-known cryptocurrencies. They typically gain popularity in a short period of time, often hyped online by prominent influencers or investors attempting to exploit short-term gains|Doge Coin, Safemoon|\n",
    "|Governance tokens | Allow holders certain rights such as voting for changes to protocols or having a say in decisions of a decentralized autonomous organization (DAO) (👉🏻 more in week 4)|luna *(a coin hold by the members of the [Terra network](https://www.terra.money) (another blockchain) to participate in votes about the networks policy - the coin is also traded on on crypto exchanges)*|"
   ]
  },
  {
   "cell_type": "markdown",
   "metadata": {},
   "source": [
    "#### Bitcoin (BTC)   \n",
    "Bitcoin is the world’s first decentralized cryptocurrency launched in January 2009 by an anonymous computer programmer or group of programmers under the pseudonym \"Satoshi Nakamoto\". Each bitcoin is made up of 100 million satoshis (the smallest units of bitcoin), making individual bitcoins divisible up to eight decimal places. That means anyone can purchase a fraction of a bitcoin with as little as one U.S. dollar.  \n",
    "Bitcoin has generally hovered around 40% of the global cryptocurrency market since May of 2021.\n",
    "\n",
    "*So what is the difference between Bitcoin and ERC-20?* Both are blockchain-based assets that have value and can be sent and received. The primary difference is that instead of running on their own blockchain, ERC-20 tokens are issued on the Ethereum network. "
   ]
  },
  {
   "cell_type": "code",
   "execution_count": 3,
   "metadata": {},
   "outputs": [
    {
     "data": {
      "image/png": "[encoded data removed]",
      "text/plain": [
       "<Figure size 864x216 with 1 Axes>"
      ]
     },
     "metadata": {
      "needs_background": "light"
     },
     "output_type": "display_data"
    }
   ],
   "source": [
    "# PLOT BITCOIN PRICE\n",
    "df = df = crypto_data(coin=\"BTC\", days=2000)\n",
    "df.plot.line(x=\"date\",y='close',title=\"Bitcoin Price in USD\", figsize=(12,3),lw=1);"
   ]
  },
  {
   "cell_type": "markdown",
   "metadata": {},
   "source": [
    "#### Ethereum and Ether (ETH)\n",
    "First proposed in 2013 by Russian-Canadian computer programmer **Vitalik Buterin**, Ethereum was designed to expand the utility of cryptocurrencies by allowing developers to create their own special applications. Unlike traditional apps, Ethereum-based applications are called *decentralized applications*, or *dapps* for short. Dapps are self-executing thanks to the use of smart contracts.  \n",
    "\n",
    "As we already know, **smart contracts** are code-based programs that are stored on the Ethereum blockchain and automatically carry out certain functions when predetermined conditions are met. That can be anything from sending a transaction when a certain event takes place or loaning funds once collateral is deposited into a designated wallet.\n",
    "\n",
    "**What is the difference between Ethereum and Ether?**   \n",
    "**Ethereum** is a technology that uses blockchain. To cover the cost of this power, you need to pay a fee — and **Ether** is the token by which you make this payment.\n",
    "\n",
    "You can call it the cryptocurrency of the Ethereum network.\n",
    "\n",
    "As of March 18, 2022, there are 120 million coins in circulation.\n",
    "\n",
    "However, the names Ether and Ethereum are often used interchangeably. \n",
    "\n",
    "Ethereum is together with bitcoin by far the moste important cryptocurrency - you can see that also from the price chart of Ethereum: it moves similar to that of Bitcoin:"
   ]
  },
  {
   "cell_type": "code",
   "execution_count": 4,
   "metadata": {},
   "outputs": [
    {
     "data": {
      "image/png": "[encoded data removed]",
      "text/plain": [
       "<Figure size 864x216 with 1 Axes>"
      ]
     },
     "metadata": {
      "needs_background": "light"
     },
     "output_type": "display_data"
    }
   ],
   "source": [
    "# PLOT ETHEREUM PRICE\n",
    "df = df = crypto_data(coin=\"ETH\", days=2000)\n",
    "df.plot.line(x=\"date\",y='close',title=\"Ethereum Price in USD\", figsize=(12,3),lw=1, color=\"k\");"
   ]
  },
  {
   "cell_type": "markdown",
   "metadata": {},
   "source": [
    "#### Altcoin\n",
    "Altcoins (\"alternative coins\") are generally defined as all cryptocurrencies other than Bitcoin (although some people consider *all cryptos beside Bitcoin **and** Ethereum* as Altcoins because most cryptos are forked from one of the two).   \n",
    "There are tens of thousands of altcoins on the market. In fact the crypto we are going to build in the workbook can be considered as altcoin, too.  \n",
    "It is possible for an altcoin to fall into more than one category, such as **TerraUSD**, which is a stablecoin *and* utility token.\n",
    "\n",
    "A typicial use case for the creation of altcoins is to raise funds for specific projects. An initial coin offering (ICO) is the cryptocurrency industry’s equivalent of an initial public offering (IPO). A company looking to raise money to create a new coin, app, or service launches an ICO to raise funds.\n",
    "\n",
    "For example, the token **Bananacoin** forked from Ethereum in 2017 was a way to raise funds for organic banana plantations in Laos. The project claimed that purchaser of the token become owners of a \"...real banana plantation...\". However, the project ended after raising $4.8 million, with unpublished project results and 12% of the tokens redeemed.   "
   ]
  },
  {
   "cell_type": "markdown",
   "metadata": {},
   "source": [
    "##### Doge Coin   \n",
    "Do you remember **Dogecoin**? The logo of the coin was created from a viral photo of a Shiba Inu:     \n",
    "\n",
    "<img src=\"https://upload.wikimedia.org/wikipedia/en/d/d0/Dogecoin_Logo.png\" alt=\"DOGE Coin Logo\" width=\"100\"/>\n",
    "\n",
    "It is a cryptocurrency forked from Litecon (and therefore it is a token and not a coin). Doge Coin was invented by two software engineers who decided to create a payment system as a *joke*, making fun of the wild speculation in cryptocurrencies at that time. In January 2021, Doge Coin went up over 800% in 24 hours as a result of attention from *Reddit* and Tweets from *Elon Musk*.   \n",
    "April and May 2021 is sometimes named as the *meme coin season*, with hundreds of these cryptocurrencies posting enormous percentage gains based on pure speculation. Doge Coin was one of them:  "
   ]
  },
  {
   "cell_type": "code",
   "execution_count": 5,
   "metadata": {},
   "outputs": [
    {
     "data": {
      "image/png": "[encoded data removed]",
      "text/plain": [
       "<Figure size 864x216 with 1 Axes>"
      ]
     },
     "metadata": {
      "needs_background": "light"
     },
     "output_type": "display_data"
    }
   ],
   "source": [
    "# PLOT DOGE COIN CHART\n",
    "df = crypto_data(coin=\"DOGE\", days=500)\n",
    "df.plot.line(x=\"date\",y='close',title=\"DOGE Coin Price in USD\", figsize=(12,3),lw=1, color=\"r\");\n"
   ]
  },
  {
   "cell_type": "markdown",
   "metadata": {},
   "source": [
    "##### Stablecoin\n",
    "Stablecoins are pegged, or tied to another currency (e.g.: US-$), commodity (e.g. gold) or financial instrument. Stablecoins aim to provide an alternative to the high volatility of most cryptos making them more suitable for wide use in transactions.   \n",
    " \n",
    "There are three types of stablecoins based on the mechanism used to stabilize their value:  \n",
    "\n",
    "|Type|Main Feature|Examples|\n",
    "|--|--|--|\n",
    "|Fiat-Collateralized|maintain a reserve of a fiat currency (e.g. US-$) or asset (e.g. gold, silver, oil) as collateral assuring the stablecoin's value.|Tether (USDT) and TrueUSD (TUSD) *(both are pary to and backed by US-$ reserves)*|\n",
    "|Crypto-Collateralized|Backed by other cryptos whereas the amount of reserve-cryptos is bigger than the issued crypto (this makes this coin less volatile than its underlying crypto) |MakerDAO's Dai (DAI)|\n",
    "|Algorithmic|Trying to keep the stablecoin's value stable by controlling its supply through an algorithm.|TerraUSD (UST) |\n",
    "\n",
    "\n",
    "\n",
    "As stablecoins are very close to the assets they are bound to, more and more regulation efforts are in place by many countries."
   ]
  },
  {
   "cell_type": "markdown",
   "metadata": {},
   "source": [
    "\n",
    "### Decentralised Exchanges\n",
    "\n",
    "Decentralized exchanges or Dexes, in opposite to standard, allow for exchanging crypto assets in a completely decentralized and permissionless way without giving up the custody of the coins. There are 2 main types of dexes. \n",
    "\n",
    "1. Order-book based Decentralised Exchanges\n",
    "In the case of an order-book exchange, all trade requests will be listed as open orders for a specific trading pair. An example of an order book could be for the BTC/USD trading pair. The order book will have the corresponding buy and sell orders that customers have placed on the exchange to either buy or sell Bitcoin for US Dollars. However, it is important to note that placing an order does not guarantee someone else will agree to take the offer. If anyone on the exchange places a better offer than the one we place, then the better offer will be taken first.\n",
    "\n",
    "2. Automated Market Maker (AMM)\n",
    "The order-book system has obvious flaws (i.e. no guarantee for trade, time delay, requires high activity of open orders). Such process can be described as a peer-to-peer model (P2P). AMM's go beyond a P2P model and allow anyone to make instantaneous exchanges between two pairs of assets by using a model called peer-to-pool-to-peer (P2Pool2P). Instead of requiring individuals to create open orders, each token pair (i.e. ETH/BTC) is actually underpinned by a liquidity pool. Liquidity pools are smart contracts that hold balances of two unique tokens and enforce rules around depositing and withdrawing them. You can literally imagine them as a pool of money that holds both tokens, and anyone can take out one currency as long the other is put back into the pool. These pools are created by liquidity providers who provide liquidity by depositing (staking) their assets. As a return, they earn fees from transactions on the DeFi platform they provide liquidity on. The transaction fees are distributed proportionally to all the liquidity providers in the pool, so the more crypto assets you stake the more fees you'll earn.\n",
    "\n",
    "<img src=\"https://www.dropbox.com/s/rxhzowpqek1dcb2/liqudity_pools.png?raw=1\" alt=\"etherscan_week1\" width=\"1000\"/>\n",
    "\n",
    "Later on, we will dive into Uniswap, one of the most popular AMM protocols in DeFi. And inside the workbook, you will create your own liquidity pool using your own token."
   ]
  },
  {
   "cell_type": "markdown",
   "metadata": {},
   "source": [
    "### Lending & Borrowing\n",
    "\n",
    "In DeFi, the concept is simple. A smart contract stores the funds provided by lenders, and manages the payout to borrowers. Lenders receive an interest on their deposited amount, while borrowers have to pay an interest on the amount they borrowed. Any user can become a borrower and lender without having to hand over personal information, identity or undergo KYC (know your customer) procedures. At any time lenders can redeem the deposited assets and borrows can pay back part or all of their debt.\n",
    "\n",
    "How can we ensure that the money is being paid back?\n",
    "\n",
    "In order to **borrow**, a user traditionally has to provide a collateral that holds value. The collateral could be a cryptocurrency, or in some cases even an NFT. Generally, most loans are overcollaterals, which means that the borrower has to provide assets that are worth more than the actual loan. This depends on the collateral factor of the collateral. In some cases it can be 75%, which implies that for 100% value of the collateral, the borrower can receive 75% in form of a loan. Additionally, the amount that can be borrowed also depends on the amount that is locked inside the smart contract. Normally, in active markets, there should be enough liquidity, however, it can happen that the locked assets provided by lenders are not enough to satisfy the demand by the borrowers. Liquidity is provided by liquidity pools, however oppositely to a \"trading pool\" used in a decentralised exchange, we now work with \"lending pools\" that simply do not require two pairs of assets inside one pool.\n",
    "\n",
    "Why would anyone borrow if that means more value has to be employed as collateral? Think about it for a little.\n",
    "\n",
    "Selling your assets means closing your position on that particular asset. Hence, if you are long on the asset, you would not be entitled to the potential upside value gain. By borrowing you are able to obtain liquidity (working capital) without selling your assets.\n",
    "\n",
    "The **lender's** interest heavily depends on that balance. In fact, the interest rate is determined by the ratio that exists between the supplied and borrowed tokens in a particular market. The higher the demand to borrow for specific token, the higher its interest. This interest is calculated as the APY (annual percentage yield). It is important to mention, that the lender receives the native token as interest of the DeFi protocol that is being used.\n",
    "\n",
    "<img src=\"https://www.dropbox.com/s/sgk23v6wypoe3m2/borrowing_lending.png?raw=1\" alt=\"etherscan_week1\" width=\"600\"/>\n"
   ]
  },
  {
   "cell_type": "markdown",
   "metadata": {},
   "source": [
    "### Oracles"
   ]
  },
  {
   "cell_type": "markdown",
   "metadata": {},
   "source": [
    "As you might remind in our NFT week when we build our NFT collection with random words we *faked* randomness by hashing a string and using the hash as a pseudo-random number. \n",
    "The blockchain per se is deterministic: it cannot create real random numbers. \n",
    "The same problem arise when you build financial DAPs: how can you access reliable data from outside the blockchain like current exchange rates, stock prices, etc.\n",
    "The solution to this are **oracles**.\n",
    "\n",
    "The word \"oracle\" originates in Greek mythological stories and refers to those who can communicate directly with god. \n",
    "\n",
    "Oracles are platforms that provide information about the real world to the blockchain.\n",
    "\n",
    "For a smart contract to access e.g. weather, stock prices, political events, etc. an external gateway is required. Oracles serve as a gateway, processing external and deterministic data and converting it to a format that the blockchain can understand.\n",
    "\n",
    "What is a Blockchain Oracle Problem?\n",
    "But how can the blockchain verify that the information provided by the oracles are correct? This is called the **Oracle Problem**.\n",
    "\n",
    "Chainlink as a solution\n",
    "Chainlink is defined as a decentralized network of oracles that enables smart contracts to interact with data and services outside the blockchain securely. Chainlink connects real-world data to blockchain-based smart contracts."
   ]
  },
  {
   "cell_type": "markdown",
   "metadata": {},
   "source": [
    "## DeFi Protocols\n",
    "Having covered a lot of theory so far, lets dive into some of the protocols that provide the financial services that we have seen. When jumping into DeFi, one must know about two of the most dominant DeFi protocols. MakerDAO and Uniswap. Both played a major role in developing DeFi as a whole."
   ]
  },
  {
   "cell_type": "markdown",
   "metadata": {},
   "source": [
    "### MakerDAO\n",
    "MakerDAO was founded in 2015, and is a lending and borrowing protocol. It allows users to lock in collateral such as ETH, and receive the platforms native DAI token in return. DAI is a stable coin that is pegged on the US Dollar. This is highly fundamental,  because it allows people to generate Dai and pay for goods and services in a stable currency without having to sell their underlying collateral asset (ETH, wBTC, etc.).\n",
    "\n",
    "The MakerDAO protocol holds more TVL than any other DeFi protocol. In other words, inside the MakerDao smart contract 9.45b USD is locked. "
   ]
  },
  {
   "cell_type": "markdown",
   "metadata": {},
   "source": [
    "### Uniswap\n",
    "Uniswap was founded in 2018. Uniswap is a cryptocurrency exchange which uses liquidity pools to create more efficient exchange rates.\n",
    "\n",
    "Changes to the protocol are voted on by the owners of UNI coins, and then implemented by a team of developers. UNIs were initially distributed to early users of the protocol. Each Ethereum address that had interacted with Uniswap prior to September 1, 2020 received the ability to claim 400 UNI tokens (worth approximately $1,400 at the time). The market capitalization for the UNI token is over USD 6.6 billion as of February 2022."
   ]
  },
  {
   "cell_type": "markdown",
   "metadata": {},
   "source": [
    "## Ethereum Name Service\n",
    "*Ethereum addresses* can have names. The Service behind it calls `Ethereum Names Service` (ENS). Every ethereum name ends with **.eth** and like web domains you are registering for a specific time period. You can purchase an ENS [here](https://manager.ens.domains). The current price (as of May 2022) to register an Ethereum address is 0.002 ETH (registration fee) + gas. The estimated gas depends on the name. E.g. for registering **unpackai.eth** the costs would be about US$23 for one year: \n",
    "\n",
    "<img src='https://github.com/dirkkalmbach/bl101/blob/main/bl101/images/ENS_for_unpackai.png?raw=true' width=500px>   \n",
    "\n",
    "The advantage is obvious: instead of a 42 character long wallet address you can chose a *human-readable* name which relates to your organization or project. Let's say you want to start a crowd-funding project: instead of the high risk of mistyping a cryptocurrency wallet address you provide an easy to remember name for your wallet.  Smart contracts (and therefore ERC-20 tokens) can also have an *EMS-name*.\n",
    "\n",
    "*We will show you in this weeks [workbook](https://colab.research.google.com/github/unpackAI/BL101/blob/main/course_notebooks/Week_3_DecentralisedFinance%28DeFi%29/03_Decentralised_Finance%28DeFi%29_Workbook.ipynb) how to extract the *Ethereum Name* from a wallet address.* "
   ]
  },
  {
   "cell_type": "markdown",
   "metadata": {},
   "source": [
    "## Future Developments"
   ]
  },
  {
   "cell_type": "markdown",
   "metadata": {},
   "source": [
    "### Cryptos as legal tender?  \n",
    "**China**  \n",
    "Cryptocurrencies are not a legal tender and cryptocurrency exchanges are illegal in China.\n",
    "The People’s Bank of China (PBOC) banned financial institutions from handling Bitcoin transactions in 2013 and went further by banning ICOs and domestic cryptocurrency exchanges in 2017. However, the PBOC has been working on introducing an official digital currency (digital Yuan) since 2012. In late 2020, the Chinese government drafted a law that conferred legal status on PBOC’s digital Yuan: the legislation is expected to result in the demise of the fiat currency, and the introduction of currency controls covering exchanges and currency fungibility. \n",
    "\n",
    "**El Salvador and CAR**    \n",
    "A widely discussed field is wether cryptocurrencies can replace conventional currencies (a.k.a. fiat money) or not.\n",
    "In September 2021, **El Salvador** became the first country in the world to make bitcoin legal tender, and all economic agents were required to accept bitcoin for all payments. The Salvadorean government also launched an app, \"Chivo Wallet\", which allowed users to digitally trade both Bitcoin and Dollars, and gave major incentives for downloading it. In April 2022 **Central African Republic (CAR)** followed El Salvador to approve Bitcoin as legal tender.\n",
    "Proponents argue that in a country where few people have bank accounts, the adoption of Bitcoin will help encourage savings and offer a safe place to store and transfer money.   \n",
    "But an estimate from 2020 showed that 9 out of 10 Central Africans do not have access to the internet - of course the prerequisite for using Bitcoin."
   ]
  },
  {
   "cell_type": "markdown",
   "metadata": {},
   "source": [
    "### Your Deliverables, your time to apply the theory in practice.\n",
    "\n",
    "Congratulations on getting to the end of this Notebook and no worries at all if you struggled with some of the theory and did not fully understand what was taught here as your actual learning starts from here.\n",
    "\n",
    "The ideal time of reading this, is right before the Review Session, so you have a bit of time to reflect about the learning material, identify the most confusing and hard elements of a reading, and bring them to the discussion during the Review Session. The Review session is there for you to close the gap in your current understanding of the material.\n",
    "\n",
    "For your deliverables you will have to work on the Workbook found [here](https://colab.research.google.com/github/unpackAI/BL101/blob/main/course_notebooks/Week_3_DecentralisedFinance%28DeFi%29/03_Decentralised_Finance%28DeFi%29_Workbook.ipynb)!"
   ]
  },
  {
   "cell_type": "markdown",
   "metadata": {},
   "source": [
    "---\n",
    "# 📚 Reference\n",
    "\n",
    "**Token Standards**\n",
    "- crypto.com, (2022). [What are Token Standards? An Overview](https://crypto.com/university/what-are-token-standards) 📄  \n",
    "- OpenZeppelin. [ERC 20](https://docs.openzeppelin.com/contracts/4.x/erc20) 📄  \n",
    "- Github [ERC20.sol](https://github.com/OpenZeppelin/openzeppelin-solidity/blob/9b3710465583284b8c4c5d2245749246bb2e0094/contracts/token/ERC20/ERC20.sol) 📄      \n",
    "- Fabian Vogelsteller & Vitalik Buterin, (2015). [EIP-20: Token Standard](https://eips.ethereum.org/EIPS/eip-20) 📄 \n",
    "- <sup>[1]</sup> Vittorio Minacori. [ERC-1363 Payable Token](https://vittominacori.github.io/erc1363-payable-token/#abstract) 📄💲 <a name=\"cite_note-1\"></a>[🔙](#cite_ref-1) \n",
    "\n",
    "\n",
    "**Oracle Problem**\n",
    "- Giulio Caldarelli, (2020). [Understanding the Blockchain Oracle Problem: A Call for Action](https://doi.org/10.3390/info11110509) 📄  \n",
    "- Akash Takyar. [What is Blockchain Oracle Problem and how Chainlin solves it?](https://www.leewayhertz.com/chainlink-solving-blockchain-oracle-problem/) 📄  \n",
    "\n",
    "**Cryptos**   \n",
    "- Rakesh Sharma, (2022). [Bananacoin (BCO)](https://www.investopedia.com/terms/b/bananacoin.asp) 📄   \n",
    "\n",
    "**ENS**   \n",
    "- Iulia Vasile, (2022). [Ethereum Name Service (ENS): Everything You Need To Know](https://beincrypto.com/learn/ethereum-name-service-ens/) 📄    \n",
    "\n",
    "**Future Developments**\n",
    "- Fernando E. Alvarez, David Argente & Diana Van Patten, (2022). [Are Cryptocurrencies Currencies? Bitcoin as Legal Tender in El Salvador](https://www.nber.org/papers/w29968) 📄    \n",
    "- BBC News, (2022). [Why the Central African Republic adopted Bitcoin](https://www.bbc.com/news/world-africa-61565485) 📄   \n",
    "\n",
    "**Tutorials**\n",
    "- Patrick Collins, (2022). [Learn Blockchain, Solidity, and Full Stack Web3 Development with JavaScript, Chapter 13: DeFi & Aave](https://youtu.be/gyMwXuJrbJQ?t=69374) 📺 🏋️‍♂️    \n",
    "- Patrick Collins, (2021). [Solidity, Blockchain, and Smart Contract Course – Beginner to Expert Python Tutorial, Chapter 10: DeFi & Aave](https://youtu.be/M576WGiDBdQ?t=30880) 📺 🏋️‍♂️    "
   ]
  }
 ],
 "metadata": {
  "interpreter": {
   "hash": "ea271a8d55864f2db1b3c7d9182e9261e5d717f60008da9ec5479eef0acaf401"
  },
  "kernelspec": {
   "display_name": "Python 3.9.10 ('blockchain39')",
   "language": "python",
   "name": "python3"
  },
  "language_info": {
   "codemirror_mode": {
    "name": "ipython",
    "version": 3
   },
   "file_extension": ".py",
   "mimetype": "text/x-python",
   "name": "python",
   "nbconvert_exporter": "python",
   "pygments_lexer": "ipython3",
   "version": "3.9.10"
  },
  "orig_nbformat": 4
 },
 "nbformat": 4,
 "nbformat_minor": 2
}
